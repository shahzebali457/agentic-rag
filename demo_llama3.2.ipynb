{
 "cells": [
  {
   "cell_type": "markdown",
   "metadata": {},
   "source": [
    "# 100% local Agentic RAG"
   ]
  },
  {
   "cell_type": "code",
   "execution_count": 1,
   "metadata": {},
   "outputs": [
    {
     "name": "stderr",
     "output_type": "stream",
     "text": [
      "d:\\my_env\\rag\\Lib\\site-packages\\pydantic\\_internal\\_config.py:295: PydanticDeprecatedSince20: Support for class-based `config` is deprecated, use ConfigDict instead. Deprecated in Pydantic V2.0 to be removed in V3.0. See Pydantic V2 Migration Guide at https://errors.pydantic.dev/2.10/migration/\n",
      "  warnings.warn(DEPRECATION_MESSAGE, DeprecationWarning)\n",
      "d:\\my_env\\rag\\Lib\\site-packages\\pydantic\\fields.py:1042: PydanticDeprecatedSince20: Using extra keyword arguments on `Field` is deprecated and will be removed. Use `json_schema_extra` instead. (Extra keys: 'example'). Deprecated in Pydantic V2.0 to be removed in V3.0. See Pydantic V2 Migration Guide at https://errors.pydantic.dev/2.10/migration/\n",
      "  warn(\n",
      "d:\\my_env\\rag\\Lib\\site-packages\\crewai_tools\\tools\\scrapegraph_scrape_tool\\scrapegraph_scrape_tool.py:35: PydanticDeprecatedSince20: Pydantic V1 style `@validator` validators are deprecated. You should migrate to Pydantic V2 style `@field_validator` validators, see the migration guide for more details. Deprecated in Pydantic V2.0 to be removed in V3.0. See Pydantic V2 Migration Guide at https://errors.pydantic.dev/2.10/migration/\n",
      "  @validator('website_url')\n",
      "d:\\my_env\\rag\\Lib\\site-packages\\crewai_tools\\tools\\selenium_scraping_tool\\selenium_scraping_tool.py:26: PydanticDeprecatedSince20: Pydantic V1 style `@validator` validators are deprecated. You should migrate to Pydantic V2 style `@field_validator` validators, see the migration guide for more details. Deprecated in Pydantic V2.0 to be removed in V3.0. See Pydantic V2 Migration Guide at https://errors.pydantic.dev/2.10/migration/\n",
      "  @validator('website_url')\n"
     ]
    }
   ],
   "source": [
    "import warnings\n",
    "from crewai import Agent, Crew, Task, LLM, Process\n",
    "from src.agentic_rag.tools.custom_tool import DocumentSearchTool\n",
    "# from src.agentic_rag.tools.custom_tool import FireCrawlWebSearchTool\n",
    "from crewai_tools import SerperDevTool\n",
    "\n",
    "warnings.filterwarnings(\"ignore\")"
   ]
  },
  {
   "cell_type": "markdown",
   "metadata": {},
   "source": [
    "### Setup LLM\n"
   ]
  },
  {
   "cell_type": "code",
   "execution_count": 10,
   "metadata": {},
   "outputs": [],
   "source": [
    "llm = LLM(\n",
    "    model=\"ollama/llama3.2:1b\",\n",
    "    base_url=\"http://localhost:11434\"\n",
    ")"
   ]
  },
  {
   "cell_type": "markdown",
   "metadata": {},
   "source": [
    "### Setup Tools"
   ]
  },
  {
   "cell_type": "code",
   "execution_count": 20,
   "metadata": {},
   "outputs": [],
   "source": [
    "pdf_tool = DocumentSearchTool(file_path='D:/agentic_rag/knowledge/dspy.pdf')"
   ]
  },
  {
   "cell_type": "markdown",
   "metadata": {},
   "source": [
    "Make sure you have the API key for FireCrawl in your environment variables."
   ]
  },
  {
   "cell_type": "code",
   "execution_count": 21,
   "metadata": {},
   "outputs": [],
   "source": [
    "# web_search_tool = FireCrawlWebSearchTool()\n",
    "web_search_tool = SerperDevTool()"
   ]
  },
  {
   "cell_type": "markdown",
   "metadata": {},
   "source": [
    "### Agents"
   ]
  },
  {
   "cell_type": "code",
   "execution_count": 22,
   "metadata": {},
   "outputs": [],
   "source": [
    "retriever_agent = Agent(\n",
    "    role=\"\"\"Retrieve relevant information to answer the user query: {query}\"\"\",\n",
    "    goal=\"\"\"Retrieve the most relevant information from the available sources \n",
    "            for the user query: {query}, always try to use the pdf search tool first. \n",
    "            If you are not able to retrieve the information from the pdf search tool \n",
    "            then try to use the web search tool.\"\"\",\n",
    "    backstory=\"\"\"You're a meticulous analyst with a keen eye for detail. \n",
    "                You're known for your ability understand the user query: {query} \n",
    "                and retrieve knowlege from the most suitable knowledge base.\"\"\",\n",
    "    verbose=True,\n",
    "    tools=[\n",
    "        pdf_tool,\n",
    "        web_search_tool\n",
    "    ],\n",
    "    llm=llm\n",
    ")\n",
    "\n",
    "response_synthesizer_agent = Agent(\n",
    "    role=\"\"\"Response synthesizer agent for the user query: {query}\"\"\",\n",
    "    goal=\"\"\"Synthesize the retrieved information into a concise and coherent response \n",
    "            based on the user query: {query}. If you are not able to retrieve the \n",
    "            information then respond with \"I'm sorry, I couldn't find the information \n",
    "            you're looking for.\"\"\",\n",
    "    backstory=\"\"\"You're a skilled communicator with a knack for turning complex \n",
    "                information into clear and concise responses.\"\"\",\n",
    "    verbose=True,\n",
    "    llm=llm\n",
    ")\n"
   ]
  },
  {
   "cell_type": "markdown",
   "metadata": {},
   "source": [
    "### Tasks"
   ]
  },
  {
   "cell_type": "code",
   "execution_count": 23,
   "metadata": {},
   "outputs": [],
   "source": [
    "retrieval_task = Task(\n",
    "    description=\"\"\"Retrieve the most relevant information from the available \n",
    "                   sources for the user query: {query}\"\"\",\n",
    "    expected_output=\"\"\"The most relevant information in form of text as retrieved\n",
    "                       from the sources.\"\"\",\n",
    "    agent=retriever_agent\n",
    ")\n",
    "\n",
    "response_task = Task(\n",
    "    description=\"\"\"Synthesize the final response for the user query: {query}\"\"\",\n",
    "    expected_output=\"\"\"A concise and coherent response based on the retrieved infromation\n",
    "                       from the right source for the user query: {query}. If you are not \n",
    "                       able to retrieve the information then respond with \n",
    "                       I'm sorry, I couldn't find the information you're looking for.\"\"\",\n",
    "    agent=response_synthesizer_agent\n",
    ")"
   ]
  },
  {
   "cell_type": "markdown",
   "metadata": {},
   "source": [
    "### Initialize Crew"
   ]
  },
  {
   "cell_type": "code",
   "execution_count": 24,
   "metadata": {},
   "outputs": [
    {
     "name": "stderr",
     "output_type": "stream",
     "text": [
      "2025-01-12 00:17:22,734 - 22652 - __init__.py-__init__:537 - WARNING: Overriding of current TracerProvider is not allowed\n"
     ]
    }
   ],
   "source": [
    "crew = Crew(\n",
    "\t\t\tagents=[retriever_agent, response_synthesizer_agent], \n",
    "\t\t\ttasks=[retrieval_task, response_task],\n",
    "\t\t\tprocess=Process.sequential,\n",
    "\t\t\tverbose=True,\n",
    "\t\t\t# process=Process.hierarchical, # In case you wanna use that instead https://docs.crewai.com/how-to/Hierarchical/\n",
    "\t\t)"
   ]
  },
  {
   "cell_type": "markdown",
   "metadata": {},
   "source": [
    "### Kickoff Crew"
   ]
  },
  {
   "cell_type": "code",
   "execution_count": 25,
   "metadata": {},
   "outputs": [
    {
     "name": "stdout",
     "output_type": "stream",
     "text": [
      "\u001b[1m\u001b[95m# Agent:\u001b[00m \u001b[1m\u001b[92mRetrieve relevant information to answer the user query: Brefly explain DSpy?\u001b[00m\n",
      "\u001b[95m## Task:\u001b[00m \u001b[92mRetrieve the most relevant information from the available \n",
      "                   sources for the user query: Brefly explain DSpy?\u001b[00m\n",
      "\n",
      "\n",
      "\u001b[1m\u001b[95m# Agent:\u001b[00m \u001b[1m\u001b[92mRetrieve relevant information to answer the user query: Brefly explain DSpy?\u001b[00m\n",
      "\u001b[95m## Final Answer:\u001b[00m \u001b[92m\n",
      "The most relevant information about DSpy is available online. According to the DocumentSearchTool and Search the internet results, DSpy is a software application or framework used for data storage management in various fields such as biology, chemistry, and physics. It provides tools for organizing and analyzing large datasets, making it an essential resource for researchers and scientists. The WebSearch result mentions that DSpy is also known as Data Storage Protocol eXtensible.\u001b[00m\n",
      "\n",
      "\n",
      "\u001b[1m\u001b[95m# Agent:\u001b[00m \u001b[1m\u001b[92mResponse synthesizer agent for the user query: Brefly explain DSpy?\u001b[00m\n",
      "\u001b[95m## Task:\u001b[00m \u001b[92mSynthesize the final response for the user query: Brefly explain DSpy?\u001b[00m\n",
      "\n",
      "\n",
      "\u001b[1m\u001b[95m# Agent:\u001b[00m \u001b[1m\u001b[92mResponse synthesizer agent for the user query: Brefly explain DSpy?\u001b[00m\n",
      "\u001b[95m## Final Answer:\u001b[00m \u001b[92m\n",
      "Data Storage Protocol eXtensible (DSpy) is a software or framework used for data storage management, particularly in biology, chemistry, and physics. It provides tools for organizing and analyzing large datasets, making it an essential resource for researchers and scientists. The term DSpy has also been associated with the Data Storage Protocol eXtensible, which is mentioned as another name for the platform.\u001b[00m\n",
      "\n",
      "\n"
     ]
    }
   ],
   "source": [
    "# result = crew.kickoff(inputs={\"query\": \"When is Australian open 2025 happening?\"})\n",
    "result = crew.kickoff(inputs={\"query\": \"Brefly explain DSpy?\"})"
   ]
  },
  {
   "cell_type": "code",
   "execution_count": 26,
   "metadata": {},
   "outputs": [
    {
     "name": "stdout",
     "output_type": "stream",
     "text": [
      "Data Storage Protocol eXtensible (DSpy) is a software or framework used for data storage management, particularly in biology, chemistry, and physics. It provides tools for organizing and analyzing large datasets, making it an essential resource for researchers and scientists. The term DSpy has also been associated with the Data Storage Protocol eXtensible, which is mentioned as another name for the platform.\n"
     ]
    }
   ],
   "source": [
    "print(result)"
   ]
  },
  {
   "cell_type": "code",
   "execution_count": null,
   "metadata": {},
   "outputs": [],
   "source": []
  }
 ],
 "metadata": {
  "kernelspec": {
   "display_name": "Python (rag)",
   "language": "python",
   "name": "rag"
  },
  "language_info": {
   "codemirror_mode": {
    "name": "ipython",
    "version": 3
   },
   "file_extension": ".py",
   "mimetype": "text/x-python",
   "name": "python",
   "nbconvert_exporter": "python",
   "pygments_lexer": "ipython3",
   "version": "3.11.7"
  }
 },
 "nbformat": 4,
 "nbformat_minor": 2
}
